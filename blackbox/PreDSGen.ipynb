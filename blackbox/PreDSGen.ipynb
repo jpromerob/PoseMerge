{
 "cells": [
  {
   "cell_type": "code",
   "execution_count": 1,
   "id": "f1035b67",
   "metadata": {},
   "outputs": [],
   "source": [
    "\n",
    "from toolsdsgen import *"
   ]
  },
  {
   "cell_type": "code",
   "execution_count": 2,
   "id": "f5729020",
   "metadata": {},
   "outputs": [
    {
     "name": "stdout",
     "output_type": "stream",
     "text": [
      "Poses in Real-Camera Space\n",
      "[ 0.1767767   0.         -0.53033009]\n",
      "[-0.1767767   0.         -0.53033009]\n",
      "[ 1.5308085e-17  0.0000000e+00 -2.5000000e-01]\n",
      "Coming Back to World Space\n",
      "[-0.25  1.    0.5 ]\n",
      "[-0.25  1.    0.5 ]\n",
      "[-0.25  1.    0.5 ]\n",
      "Angles\n",
      "[18.43494882  0.        ]\n",
      "[-18.43494882   0.        ]\n",
      "[0. 0.]\n",
      "Pixels\n",
      "Cam 1: x:216.4099493333335 y:0.0\n",
      "Cam 2: x:-237.6634999999998 y:0.0\n",
      "Cam 3: x:0.0 y:0.0\n"
     ]
    }
   ],
   "source": [
    "cam_poses = set_cam_poses()\n",
    "t_r2w, t_w2r = get_transmats(cam_poses)\n",
    "r_r2w, r_w2r = get_rotmats(cam_poses)\n",
    "focl = set_focal_lengths()\n",
    "\n",
    "# Object pose in world space\n",
    "μ_w = np.array([-0.25, 1.00, 0.50])\n",
    "\n",
    "tete = np.zeros((3,3))\n",
    "titi = np.zeros((4,3))\n",
    "\n",
    "# Object pose in real-camera spaces (x3)\n",
    "μ_r = np.zeros((3,3)) # including a '1' at the end\n",
    "μ_f = np.zeros((4,4)) # \n",
    "\n",
    "cam_ang_fp = np.zeros((2,3))\n",
    "px = np.zeros(3)\n",
    "py = np.zeros(3)\n",
    "\n",
    "# Σ = np.array([[0.02,0,0],[0,0.02,0],[0,0,1.8]])    \n",
    "\n",
    "\n",
    "for k in range(3):\n",
    "\n",
    "    \n",
    "    titi[:,k] = t_w2r[:,:, k] @ np.concatenate((μ_w,[1]))\n",
    "    μ_r[:,k]  = r_w2r[:,:,k] @ titi[0:3,k]\n",
    "    \n",
    "    # Going Back to World Space from Real-Camera Space\n",
    "    tete[:,k] = r_r2w[:,:,k] @ μ_r[0:3,k]\n",
    "    μ_f[:,k] = t_r2w[:,:, k] @ np.concatenate((tete[:,k],[1]))\n",
    "    \n",
    "    # Estimating Which pixels are concerned\n",
    "    cam_ang_fp[:,k] = get_angles_from_pos(μ_r[:,k])\n",
    "    px[k], py[k] = get_dvs_from_angles(cam_ang_fp[:,k], focl, k)\n",
    "    \n",
    "    \n",
    "\n",
    "print(\"Poses in Real-Camera Space\")\n",
    "print(μ_r[:,0])\n",
    "print(μ_r[:,1])\n",
    "print(μ_r[:,2])\n",
    "\n",
    "print(\"Coming Back to World Space\")\n",
    "print(μ_f[0:3,0])\n",
    "print(μ_f[0:3,1])\n",
    "print(μ_f[0:3,2])\n",
    "\n",
    "print(\"Angles\")\n",
    "print(cam_ang_fp[:,0])\n",
    "print(cam_ang_fp[:,1])\n",
    "print(cam_ang_fp[:,2])\n",
    "\n",
    "\n",
    "print(\"Pixels\")\n",
    "\n",
    "print(f\"Cam 1: x:{px[0]} y:{py[0]}\")\n",
    "print(f\"Cam 2: x:{px[1]} y:{py[1]}\")\n",
    "print(f\"Cam 3: x:{px[2]} y:{py[2]}\")\n"
   ]
  },
  {
   "cell_type": "code",
   "execution_count": 3,
   "id": "358b6218",
   "metadata": {},
   "outputs": [],
   "source": [
    "# THIS IS JUST TO DOUBLE CHECK PROCESS!\n",
    "cam_ang_fd = np.zeros((2,3))\n",
    "for k in range(3):\n",
    "    \n",
    "    cam_ang_fd[:,k] = get_angles_from_dvs(px[k], py[k], focl, k)\n",
    "\n",
    "v_poses = set_vir_poses(cam_ang_fd)\n",
    "\n",
    "r_v2r, r_r2v = get_rotmats(v_poses)\n",
    "\n",
    "μ = np.array([0,0,-0.95])\n",
    "Σ = np.array([[0.05,0,0],[0,0.05,0],[0,0,20]])    \n",
    "\n",
    "new_μ, w_Σ, v_Σ = create_mgd(μ, Σ, r_v2r, r_r2w, t_r2w)"
   ]
  },
  {
   "cell_type": "code",
   "execution_count": 5,
   "id": "cec7ca52",
   "metadata": {},
   "outputs": [
    {
     "name": "stdout",
     "output_type": "stream",
     "text": [
      "μ_w: [-0.25  1.    0.5 ] [m]\n",
      "μ_p: [-0.24890864  1.          0.49875461] [m]\n",
      "μ_d: [1.09136264 0.         1.24539114] [mm]\n",
      "delta: 1.7[mm]\n",
      "I m checking delta depending on SIGMA\n"
     ]
    }
   ],
   "source": [
    "μ_p = analytical(new_μ, w_Σ)\n",
    "μ_d = abs(np.array([μ_p[0]-μ_w[0], μ_p[1]-μ_w[1], μ_p[2]-μ_w[2]])*1000)\n",
    "d = math.sqrt((μ_p[0]-μ_w[0])**2+(μ_p[1]-μ_w[1])**2+(μ_p[2]-μ_w[2])**2)\n",
    "\n",
    "print(f\"μ_w: {μ_w} [m]\")\n",
    "print(f\"μ_p: {μ_p} [m]\")\n",
    "print(f\"μ_d: {μ_d} [mm]\")\n",
    "print(f\"delta: {round(d*1000,1)}[mm]\")\n",
    "\n",
    "print(\"I m checking delta depending on SIGMA\")"
   ]
  },
  {
   "cell_type": "code",
   "execution_count": null,
   "id": "96ed5568",
   "metadata": {},
   "outputs": [],
   "source": []
  }
 ],
 "metadata": {
  "kernelspec": {
   "display_name": "Python 3 (ipykernel)",
   "language": "python",
   "name": "python3"
  },
  "language_info": {
   "codemirror_mode": {
    "name": "ipython",
    "version": 3
   },
   "file_extension": ".py",
   "mimetype": "text/x-python",
   "name": "python",
   "nbconvert_exporter": "python",
   "pygments_lexer": "ipython3",
   "version": "3.8.10"
  }
 },
 "nbformat": 4,
 "nbformat_minor": 5
}
