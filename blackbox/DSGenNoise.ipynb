{
 "cells": [
  {
   "cell_type": "code",
   "execution_count": 1,
   "id": "8b34b8ac",
   "metadata": {},
   "outputs": [],
   "source": [
    "import csv\n",
    "from toolsdsgen import *"
   ]
  },
  {
   "cell_type": "code",
   "execution_count": 2,
   "id": "0b9edf6e",
   "metadata": {},
   "outputs": [],
   "source": [
    "class Cameras:\n",
    "  def __init__(self, cam_poses, focl, w, h):\n",
    "    self.cam_poses = cam_poses\n",
    "    self.focl = focl\n",
    "    self.w = w\n",
    "    self.h = h\n",
    "\n",
    "def gen_data(cams, μ_w, p):\n",
    "    \n",
    "    error_p = np.round(np.random.normal(0,p,(3,2)),0) # 3 cameras (x,y)\n",
    "    \n",
    "    t_r2w, t_w2r = get_transmats(cams.cam_poses)\n",
    "    r_r2w, r_w2r = get_rotmats(cams.cam_poses)\n",
    "\n",
    "\n",
    "    aux_a = np.zeros((4,3))\n",
    "    aux_b = np.zeros((3,3))\n",
    "\n",
    "    μ_r = np.zeros((3,3)) \n",
    "    μ_f = np.zeros((4,4)) \n",
    "\n",
    "    cam_ang_fp = np.zeros((2,3))\n",
    "    px = np.zeros(3)\n",
    "    py = np.zeros(3)\n",
    "    snn_x = np.zeros(3)\n",
    "    snn_y = np.zeros(3) \n",
    "\n",
    "    # For each camera ... \n",
    "    for k in range(3):\n",
    "\n",
    "\n",
    "        aux_a[:,k] = t_w2r[:,:, k] @ np.concatenate((μ_w,[1]))\n",
    "        μ_r[:,k]  = r_w2r[:,:,k] @ aux_a[0:3,k]\n",
    "\n",
    "        # Going Back to World Space from Real-Camera Space\n",
    "        aux_b[:,k] = r_r2w[:,:,k] @ μ_r[0:3,k]\n",
    "        μ_f[:,k] = t_r2w[:,:, k] @ np.concatenate((aux_b[:,k],[1]))\n",
    "\n",
    "        # Estimating Which pixels are concerned\n",
    "        cam_ang_fp[:,k] = get_angles_from_pos(μ_r[:,k])\n",
    "        px[k], py[k] = get_dvs_from_angles(cam_ang_fp[:,k], cams.focl, k)\n",
    "        snn_x[k] = (px[k]+error_p[k,0])/(cams.w/2)\n",
    "        snn_y[k] = (py[k]+error_p[k,1])/(cams.h/2)\n",
    "    \n",
    "    \n",
    "    return snn_x, snn_y\n",
    "    "
   ]
  },
  {
   "cell_type": "code",
   "execution_count": 3,
   "id": "67484cdf",
   "metadata": {},
   "outputs": [],
   "source": [
    "cam_poses = set_cam_poses()\n",
    "focl = set_focal_lengths()\n",
    "cams = Cameras(cam_poses, focl, 640, 480)\n",
    "\n",
    "# Object pose in world space\n",
    "μ_w = np.array([-0.25, 1.00, 0.50])"
   ]
  },
  {
   "cell_type": "code",
   "execution_count": null,
   "id": "4e1eaa27",
   "metadata": {},
   "outputs": [],
   "source": [
    "nb_pts = 60\n",
    "max_p_error = 5\n",
    "\n",
    "# Creating linear spaces\n",
    "p_array = np.linspace(0, max_p_error, max_p_error + 1)\n",
    "x_array = np.linspace(-1.0,0.0,nb_pts)\n",
    "y_array = np.linspace(0.0,1.0,nb_pts)\n",
    "z_array = np.linspace(0.5,1.5,nb_pts)\n",
    "                            \n",
    "# Shuffling elements in linear spaces                            \n",
    "np.random.shuffle(x_array)\n",
    "np.random.shuffle(y_array)\n",
    "np.random.shuffle(z_array)\n",
    "\n",
    "count = 0\n",
    "with open('dataset_noise.csv', 'w', encoding='UTF8', newline='') as f:\n",
    "    writer = csv.writer(f)\n",
    "    for p in p_array:\n",
    "        for x in x_array:\n",
    "            for y in y_array:\n",
    "                for z in z_array:\n",
    "                    μ_w = np.array([x, y, z])\n",
    "                    snn_x, snn_y = gen_data(cams, μ_w, p)\n",
    "                    if abs(snn_x[0])<=1 and abs(snn_x[1])<=1 and abs(snn_x[2])<=1:\n",
    "                        if abs(snn_y[0])<=1 and abs(snn_y[1])<=1 and abs(snn_y[2])<=1:\n",
    "                            line = [x,y,z,snn_x[0],snn_y[0],snn_x[1],snn_y[1],snn_x[2],snn_y[2]]\n",
    "                            writer.writerow(line)\n",
    "                            count += 1\n",
    "print(f\"Count = {count}/{(max_p_error + 1)*nb_pts**3}\")"
   ]
  },
  {
   "cell_type": "code",
   "execution_count": 7,
   "id": "80f3d685",
   "metadata": {},
   "outputs": [
    {
     "data": {
      "text/plain": [
       "array([0.])"
      ]
     },
     "execution_count": 7,
     "metadata": {},
     "output_type": "execute_result"
    }
   ],
   "source": [
    "p_array"
   ]
  }
 ],
 "metadata": {
  "kernelspec": {
   "display_name": "Python 3 (ipykernel)",
   "language": "python",
   "name": "python3"
  },
  "language_info": {
   "codemirror_mode": {
    "name": "ipython",
    "version": 3
   },
   "file_extension": ".py",
   "mimetype": "text/x-python",
   "name": "python",
   "nbconvert_exporter": "python",
   "pygments_lexer": "ipython3",
   "version": "3.8.10"
  }
 },
 "nbformat": 4,
 "nbformat_minor": 5
}
