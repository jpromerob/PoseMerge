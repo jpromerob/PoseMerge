{
 "cells": [
  {
   "cell_type": "code",
   "execution_count": 1,
   "metadata": {},
   "outputs": [],
   "source": [
    "import csv\n",
    "from toolsdsgen import *"
   ]
  },
  {
   "cell_type": "code",
   "execution_count": 2,
   "metadata": {},
   "outputs": [],
   "source": [
    "class Cameras:\n",
    "  def __init__(self, cam_poses, focl, w, h):\n",
    "    self.cam_poses = cam_poses\n",
    "    self.focl = focl\n",
    "    self.w = w\n",
    "    self.h = h\n",
    "    \n",
    "def gen_data(cams, μ_w, p):\n",
    "    \n",
    "    e_c = (np.random.randint(0,2,(3,2))-0.5)*2*p # 3 cameras (x,y)\n",
    "    e_s = np.random.normal(0,abs(p/4),(3,2)) # 3 cameras (x,y)    \n",
    "    error_p = np.round(e_c + e_s, 0) # 3 cameras (x,y)    \n",
    "    t_r2w, t_w2r = get_transmats(cams.cam_poses)\n",
    "    r_r2w, r_w2r = get_rotmats(cams.cam_poses)\n",
    "\n",
    "\n",
    "    aux_a = np.zeros((4,3))\n",
    "    aux_b = np.zeros((3,3))\n",
    "\n",
    "    μ_r = np.zeros((3,3)) \n",
    "    μ_f = np.zeros((4,4)) \n",
    "\n",
    "    cam_ang_fp = np.zeros((2,3))\n",
    "    px = np.zeros(3)\n",
    "    py = np.zeros(3)\n",
    "    snn_x = np.zeros(3)\n",
    "    snn_y = np.zeros(3) \n",
    "\n",
    "    # For each camera ... \n",
    "    for k in range(3):\n",
    "\n",
    "\n",
    "        aux_a[:,k] = t_w2r[:,:, k] @ np.concatenate((μ_w,[1]))\n",
    "        μ_r[:,k]  = r_w2r[:,:,k] @ aux_a[0:3,k]\n",
    "\n",
    "        # Going Back to World Space from Real-Camera Space\n",
    "        aux_b[:,k] = r_r2w[:,:,k] @ μ_r[0:3,k]\n",
    "        μ_f[:,k] = t_r2w[:,:, k] @ np.concatenate((aux_b[:,k],[1]))\n",
    "\n",
    "        # Estimating Which pixels are concerned\n",
    "        cam_ang_fp[:,k] = get_angles_from_pos(μ_r[:,k])\n",
    "        px[k], py[k] = get_dvs_from_angles(cam_ang_fp[:,k], cams.focl, k)\n",
    "        snn_x[k] = (px[k]+error_p[k,0])/(cams.w/2)\n",
    "        snn_y[k] = (py[k]+error_p[k,1])/(cams.h/2)\n",
    "    \n",
    "    \n",
    "    return snn_x, snn_y\n",
    "    "
   ]
  },
  {
   "cell_type": "code",
   "execution_count": 3,
   "metadata": {},
   "outputs": [],
   "source": [
    "def get_datasets(cams, px_e, nb_copies, nb_samples, nb_pts_dim):\n",
    "    \n",
    "    # Creating linear spaces\n",
    "    p_array = px_e*np.ones(nb_samples)\n",
    "    x_array = np.linspace(-1.0,0.0,nb_pts_dim)\n",
    "    y_array = np.linspace(0.0,1.0,nb_pts_dim)\n",
    "    z_array = np.linspace(0.5,1.5,nb_pts_dim)\n",
    "\n",
    "    with open(f\"datasets/dataset_validation.csv\", 'w', encoding='UTF8', newline='') as f_vl:\n",
    "        writer_vl = csv.writer(f_vl)\n",
    "        count = 0\n",
    "        for c_ix in range(1,nb_copies+1):\n",
    "            with open(f\"datasets/dataset_noise_{px_e}px_{c_ix}.csv\", 'w', encoding='UTF8', newline='') as f_tr:\n",
    "                writer_tr = csv.writer(f_tr)\n",
    "                for x in x_array:\n",
    "                    for y in y_array:\n",
    "                        for z in z_array:\n",
    "                            μ_w = np.array([x, y, z])\n",
    "                            snn_x_vl, snn_y_vl = gen_data(cams, μ_w, 0)\n",
    "                            for p in p_array:                                \n",
    "                                if abs(snn_x_vl[0])<=1 and abs(snn_x_vl[1])<=1 and abs(snn_x_vl[2])<=1:\n",
    "                                    if abs(snn_y_vl[0])<=1 and abs(snn_y_vl[1])<=1 and abs(snn_y_vl[2])<=1:                                        \n",
    "                                        snn_x_tr, snn_y_tr = gen_data(cams, μ_w, p)\n",
    "                                        line_vl = np.round([x,y,z,snn_x_vl[0],snn_y_vl[0],snn_x_vl[1],snn_y_vl[1],snn_x_vl[2],snn_y_vl[2]],3)\n",
    "                                        writer_vl.writerow(line_vl)\n",
    "                                        line_tr = np.round([x,y,z,snn_x_tr[0],snn_y_tr[0],snn_x_tr[1],snn_y_tr[1],snn_x_tr[2],snn_y_tr[2]],3)\n",
    "                                        writer_tr.writerow(line_tr)        \n",
    "                                        count += 1"
   ]
  },
  {
   "cell_type": "code",
   "execution_count": 4,
   "metadata": {},
   "outputs": [],
   "source": [
    "cam_poses = set_cam_poses()\n",
    "focl = set_focal_lengths()\n",
    "cams = Cameras(cam_poses, focl, 640, 480)\n",
    "\n",
    "nb_copies = 20\n",
    "nb_pts_dim = 16\n",
    "nb_samples = 64\n",
    "px_e_array = [0,4,8,12,16,20,24,32]\n"
   ]
  },
  {
   "cell_type": "code",
   "execution_count": 5,
   "metadata": {},
   "outputs": [],
   "source": [
    "for px_e in px_e_array:\n",
    "    get_datasets(cams, px_e, nb_copies, nb_samples, nb_pts_dim)"
   ]
  }
 ],
 "metadata": {
  "kernelspec": {
   "display_name": "Python 3",
   "language": "python",
   "name": "python3"
  },
  "language_info": {
   "codemirror_mode": {
    "name": "ipython",
    "version": 3
   },
   "file_extension": ".py",
   "mimetype": "text/x-python",
   "name": "python",
   "nbconvert_exporter": "python",
   "pygments_lexer": "ipython3",
   "version": "3.6.5"
  }
 },
 "nbformat": 4,
 "nbformat_minor": 5
}
