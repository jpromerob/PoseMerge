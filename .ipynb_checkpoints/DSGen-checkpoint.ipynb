{
 "cells": [
  {
   "cell_type": "code",
   "execution_count": 1,
   "id": "f1035b67",
   "metadata": {},
   "outputs": [],
   "source": [
    "\n",
    "from toolsdsgen import *"
   ]
  },
  {
   "cell_type": "code",
   "execution_count": 22,
   "id": "d6a58d1f",
   "metadata": {},
   "outputs": [],
   "source": [
    "class Cameras:\n",
    "  def __init__(self, cam_poses, focl, w, h):\n",
    "    self.cam_poses = cam_poses\n",
    "    self.focl = focl\n",
    "    self.w = w\n",
    "    self.h = h\n",
    "\n",
    "def gen_data(cams, μ_w):\n",
    "    \n",
    "    \n",
    "    \n",
    "    t_r2w, t_w2r = get_transmats(cams.cam_poses)\n",
    "    r_r2w, r_w2r = get_rotmats(cams.cam_poses)\n",
    "\n",
    "\n",
    "    aux_a = np.zeros((4,3))\n",
    "    aux_b = np.zeros((3,3))\n",
    "\n",
    "    μ_r = np.zeros((3,3)) \n",
    "    μ_f = np.zeros((4,4)) \n",
    "\n",
    "    cam_ang_fp = np.zeros((2,3))\n",
    "    px = np.zeros(3)\n",
    "    py = np.zeros(3)\n",
    "    snn_x = np.zeros(3)\n",
    "    snn_y = np.zeros(3) \n",
    "\n",
    "\n",
    "    for k in range(3):\n",
    "\n",
    "\n",
    "        aux_a[:,k] = t_w2r[:,:, k] @ np.concatenate((μ_w,[1]))\n",
    "        μ_r[:,k]  = r_w2r[:,:,k] @ aux_a[0:3,k]\n",
    "\n",
    "        # Going Back to World Space from Real-Camera Space\n",
    "        aux_b[:,k] = r_r2w[:,:,k] @ μ_r[0:3,k]\n",
    "        μ_f[:,k] = t_r2w[:,:, k] @ np.concatenate((aux_b[:,k],[1]))\n",
    "\n",
    "        # Estimating Which pixels are concerned\n",
    "        cam_ang_fp[:,k] = get_angles_from_pos(μ_r[:,k])\n",
    "        px[k], py[k] = get_dvs_from_angles(cam_ang_fp[:,k], cams.focl, k)\n",
    "        snn_x[k] = px[k]/(cams.w/2)\n",
    "        snn_y[k] = py[k]/(cams.h/2)\n",
    "    \n",
    "    \n",
    "\n",
    "#     print(\"Poses in Real-Camera Space\")\n",
    "#     print(μ_r[:,0])\n",
    "#     print(μ_r[:,1])\n",
    "#     print(μ_r[:,2])\n",
    "\n",
    "#     print(\"Coming Back to World Space\")\n",
    "#     print(μ_f[0:3,0])\n",
    "#     print(μ_f[0:3,1])\n",
    "#     print(μ_f[0:3,2])\n",
    "\n",
    "#     print(\"Angles\")\n",
    "#     print(cam_ang_fp[:,0])\n",
    "#     print(cam_ang_fp[:,1])\n",
    "#     print(cam_ang_fp[:,2])\n",
    "\n",
    "\n",
    "#     print(\"Pixels\")\n",
    "\n",
    "#     print(f\"Cam 1: x:{px[0]} y:{py[0]}\")\n",
    "#     print(f\"Cam 2: x:{px[1]} y:{py[1]}\")\n",
    "#     print(f\"Cam 3: x:{px[2]} y:{py[2]}\")\n",
    "\n",
    "#     print(\"SNN\")\n",
    "\n",
    "#     print(f\"Cam 1: x:{snn_x[0]} y:{snn_y[0]}\")\n",
    "#     print(f\"Cam 2: x:{snn_x[1]} y:{snn_y[1]}\")\n",
    "#     print(f\"Cam 3: x:{snn_x[2]} y:{snn_y[2]}\")\n",
    "    \n",
    "    return snn_x, snn_y\n",
    "    "
   ]
  },
  {
   "cell_type": "code",
   "execution_count": 23,
   "id": "8f9a2d2d",
   "metadata": {},
   "outputs": [],
   "source": [
    "cam_poses = set_cam_poses()\n",
    "focl = set_focal_lengths()\n",
    "cams = Cameras(cam_poses, focl, 640, 480)\n",
    "\n",
    "# Object pose in world space\n",
    "μ_w = np.array([-0.25, 1.00, 0.50])"
   ]
  },
  {
   "cell_type": "code",
   "execution_count": 30,
   "id": "62156853",
   "metadata": {},
   "outputs": [
    {
     "name": "stdout",
     "output_type": "stream",
     "text": [
      "Count = 18311/125000\n"
     ]
    }
   ],
   "source": [
    "nb_pts = 50\n",
    "x_array = np.linspace(-1.0,0.0,nb_pts)\n",
    "y_array = np.linspace(0.0,1.0,nb_pts)\n",
    "z_array = np.linspace(0.5,1.5,nb_pts)\n",
    "\n",
    "count = 0\n",
    "for x in x_array:\n",
    "    for y in y_array:\n",
    "        for z in z_array:\n",
    "            μ_w = np.array([x, y, z])\n",
    "            snn_x, snn_y = gen_data(cams, μ_w)\n",
    "            if abs(snn_x[0])<=1 and abs(snn_x[1])<=1 and abs(snn_x[2])<=1:\n",
    "                if abs(snn_y[0])<=1 and abs(snn_y[1])<=1 and abs(snn_y[2])<=1:\n",
    "#                     print(f\"{x},{y},{z},{snn_x[0]},{snn_y[0]},{snn_x[1]},{snn_y[1]},{snn_x[2]},{snn_y[2]}\")\n",
    "                    count += 1\n",
    "print(f\"Count = {count}/{nb_pts**3}\")"
   ]
  },
  {
   "cell_type": "code",
   "execution_count": null,
   "id": "96ed5568",
   "metadata": {},
   "outputs": [],
   "source": []
  }
 ],
 "metadata": {
  "kernelspec": {
   "display_name": "Python 3 (ipykernel)",
   "language": "python",
   "name": "python3"
  },
  "language_info": {
   "codemirror_mode": {
    "name": "ipython",
    "version": 3
   },
   "file_extension": ".py",
   "mimetype": "text/x-python",
   "name": "python",
   "nbconvert_exporter": "python",
   "pygments_lexer": "ipython3",
   "version": "3.8.10"
  }
 },
 "nbformat": 4,
 "nbformat_minor": 5
}
